{
 "cells": [
  {
   "cell_type": "markdown",
   "metadata": {},
   "source": [
    "# EmOpti Workshop - Data Preparation for XGboost\n",
    "\n",
    "Kernel `Python 3 (Data Science)` works well with this notebook"
   ]
  },
  {
   "cell_type": "code",
   "execution_count": null,
   "metadata": {},
   "outputs": [],
   "source": [
    "import sagemaker\n",
    "import boto3\n",
    "from sagemaker import get_execution_role\n",
    "\n",
    "region = boto3.Session().region_name\n",
    "\n",
    "session = sagemaker.Session()\n",
    "s3bucket = session.default_bucket()\n",
    "s3prefix = \"emopti\"\n",
    "local_data_path = './data/emopti_data.csv'\n",
    "\n",
    "role = get_execution_role()\n",
    "\n",
    "sm = boto3.Session().client(service_name=\"sagemaker\", region_name=region)"
   ]
  },
  {
   "cell_type": "markdown",
   "metadata": {},
   "source": [
    "## Data Preparation\n",
    "Read the data into a Pandas data frame and take a look"
   ]
  },
  {
   "cell_type": "code",
   "execution_count": null,
   "metadata": {},
   "outputs": [],
   "source": [
    "import pandas as pd\n",
    "import numpy as np\n",
    "\n",
    "df = pd.read_csv(local_data_path)\n",
    "pd.set_option(\"display.max_columns\", 500)  # Make sure we can see all of the columns\n",
    "pd.set_option(\"display.max_rows\", 10)  # Keep the output on one page\n",
    "df.head(5)"
   ]
  },
  {
   "cell_type": "markdown",
   "metadata": {},
   "source": [
    "#### The 'age' column has some extraneous characters, fix it so it only contains digits and force the column to type *int*"
   ]
  },
  {
   "cell_type": "code",
   "execution_count": null,
   "metadata": {},
   "outputs": [],
   "source": [
    "df['age'] = df['age'].str.extract('(\\d+)', expand=False)\n",
    "df['age'] = df['age'].astype('int64')"
   ]
  },
  {
   "cell_type": "markdown",
   "metadata": {},
   "source": [
    "#### For numeric columns, fill in missing values with the Mean value of that column"
   ]
  },
  {
   "cell_type": "code",
   "execution_count": null,
   "metadata": {},
   "outputs": [],
   "source": [
    "for col in ['age', 'first_temperature', 'first_heart_rate', 'first_bp_systolic', 'first_bp_diastolic', 'first_pain_level', 'first_respiratory_rate', 'first_spo2', 'first_esi']:\n",
    "    df[col].fillna(value=df[col].mean(), inplace=True)"
   ]
  },
  {
   "cell_type": "markdown",
   "metadata": {},
   "source": [
    "There should be only one 'y' column, so drop the 'admit_dest' column for this exercise.\n",
    "\n",
    "Also, the 'chief_complaint' column is free-form text, so we will also drop it for this exercise.\n"
   ]
  },
  {
   "cell_type": "code",
   "execution_count": null,
   "metadata": {},
   "outputs": [],
   "source": [
    "df = df.drop(columns=['admit_dest', 'chief_complaint'])"
   ]
  },
  {
   "cell_type": "markdown",
   "metadata": {},
   "source": [
    "#### For categorical values such as Gender, use one-hot-encoding"
   ]
  },
  {
   "cell_type": "code",
   "execution_count": null,
   "metadata": {},
   "outputs": [],
   "source": [
    "df = pd.get_dummies(df, columns=['gender'])"
   ]
  },
  {
   "cell_type": "markdown",
   "metadata": {},
   "source": [
    "#### Convert the 'calc_disp' column to binary"
   ]
  },
  {
   "cell_type": "code",
   "execution_count": null,
   "metadata": {},
   "outputs": [],
   "source": [
    "# drop all rows that are not ADMIT or DISCHARGE\n",
    "df = df[df['calc_disp'] != 'OTHER']"
   ]
  },
  {
   "cell_type": "code",
   "execution_count": null,
   "metadata": {},
   "outputs": [],
   "source": [
    "df['calc_disp'] = df['calc_disp'].replace({'DISCHARGE': 1, 'ADMIT': 0})"
   ]
  },
  {
   "cell_type": "code",
   "execution_count": null,
   "metadata": {},
   "outputs": [],
   "source": [
    "df.head(20)"
   ]
  },
  {
   "cell_type": "markdown",
   "metadata": {},
   "source": [
    "#### Reserve some data for calling batch inference on the trained model\n"
   ]
  },
  {
   "cell_type": "code",
   "execution_count": null,
   "metadata": {},
   "outputs": [],
   "source": [
    "df_train = df.sample(frac = 0.8, random_state=12345)\n",
    "\n",
    "!mkdir -p data/xgb/\n",
    "\n",
    "train_filename = 'train.csv'\n",
    "df_train.to_csv(f'data/xgb/{train_filename}', index=False)\n",
    "\n",
    "# save the text labels\n",
    "test_labels = 'test_labels.csv'\n",
    "df_test = df.drop(df_train.index)\n",
    "df_test['calc_disp'].to_csv(f'data/xgb/{test_labels}', index=False, header=False)\n",
    "\n",
    "# save the test data without the label column\n",
    "df_test = df_test.drop(columns=['calc_disp'])\n",
    "test_filename = 'test.csv'\n",
    "df_test.to_csv(f'data/xgb/{test_filename}', index=False)\n",
    "\n"
   ]
  },
  {
   "cell_type": "code",
   "execution_count": null,
   "metadata": {},
   "outputs": [],
   "source": []
  }
 ],
 "metadata": {
  "instance_type": "ml.t3.medium",
  "kernelspec": {
   "display_name": "Python 3 (Data Science)",
   "language": "python",
   "name": "python3__SAGEMAKER_INTERNAL__arn:aws:sagemaker:us-east-1:081325390199:image/datascience-1.0"
  },
  "language_info": {
   "codemirror_mode": {
    "name": "ipython",
    "version": 3
   },
   "file_extension": ".py",
   "mimetype": "text/x-python",
   "name": "python",
   "nbconvert_exporter": "python",
   "pygments_lexer": "ipython3",
   "version": "3.7.10"
  }
 },
 "nbformat": 4,
 "nbformat_minor": 4
}
